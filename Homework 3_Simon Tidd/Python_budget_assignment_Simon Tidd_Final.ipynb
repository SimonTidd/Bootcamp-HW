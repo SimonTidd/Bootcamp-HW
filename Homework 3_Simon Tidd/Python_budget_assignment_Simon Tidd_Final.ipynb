{
 "cells": [
  {
   "cell_type": "code",
   "execution_count": 21,
   "metadata": {},
   "outputs": [],
   "source": [
    "\n",
    "import os\n",
    "import csv"
   ]
  },
  {
   "cell_type": "code",
   "execution_count": 22,
   "metadata": {},
   "outputs": [],
   "source": [
    "csvpath = os.path.join(\"election_data.csv\")\n"
   ]
  },
  {
   "cell_type": "code",
   "execution_count": 23,
   "metadata": {},
   "outputs": [
    {
     "ename": "FileNotFoundError",
     "evalue": "[Errno 2] No such file or directory: 'election_data.csv'",
     "output_type": "error",
     "traceback": [
      "\u001b[1;31m---------------------------------------------------------------------------\u001b[0m",
      "\u001b[1;31mFileNotFoundError\u001b[0m                         Traceback (most recent call last)",
      "\u001b[1;32m<ipython-input-23-0cc1afba3303>\u001b[0m in \u001b[0;36m<module>\u001b[1;34m()\u001b[0m\n\u001b[0;32m      1\u001b[0m \u001b[1;31m# read in file\u001b[0m\u001b[1;33m\u001b[0m\u001b[1;33m\u001b[0m\u001b[0m\n\u001b[1;32m----> 2\u001b[1;33m \u001b[1;32mwith\u001b[0m \u001b[0mopen\u001b[0m\u001b[1;33m(\u001b[0m\u001b[0mcsvpath\u001b[0m\u001b[1;33m,\u001b[0m \u001b[0mnewline\u001b[0m\u001b[1;33m=\u001b[0m\u001b[1;34m\"\"\u001b[0m\u001b[1;33m)\u001b[0m \u001b[1;32mas\u001b[0m \u001b[0mcsvfile\u001b[0m\u001b[1;33m:\u001b[0m\u001b[1;33m\u001b[0m\u001b[0m\n\u001b[0m\u001b[0;32m      3\u001b[0m     \u001b[0mbudget_data\u001b[0m \u001b[1;33m=\u001b[0m \u001b[0mcsv\u001b[0m\u001b[1;33m.\u001b[0m\u001b[0mreader\u001b[0m\u001b[1;33m(\u001b[0m\u001b[0mcsvfile\u001b[0m\u001b[1;33m,\u001b[0m \u001b[0mdelimiter\u001b[0m\u001b[1;33m=\u001b[0m\u001b[1;34m\",\"\u001b[0m\u001b[1;33m)\u001b[0m\u001b[1;33m\u001b[0m\u001b[0m\n\u001b[0;32m      4\u001b[0m     \u001b[0mfile_as_list\u001b[0m\u001b[1;33m=\u001b[0m\u001b[0mlist\u001b[0m\u001b[1;33m(\u001b[0m\u001b[0melection_data\u001b[0m\u001b[1;33m)\u001b[0m\u001b[1;33m\u001b[0m\u001b[0m\n",
      "\u001b[1;31mFileNotFoundError\u001b[0m: [Errno 2] No such file or directory: 'election_data.csv'"
     ]
    }
   ],
   "source": [
    "# read in file\n",
    "with open(csvpath, newline=\"\") as csvfile:\n",
    "    budget_data = csv.reader(csvfile, delimiter=\",\")\n",
    "    file_as_list=list(election_data)"
   ]
  },
  {
   "cell_type": "code",
   "execution_count": 4,
   "metadata": {},
   "outputs": [
    {
     "name": "stdout",
     "output_type": "stream",
     "text": [
      "0\n",
      "Jan-10\n"
     ]
    }
   ],
   "source": [
    "# set accumulator variables\n",
    "net_profit_or_loss=float(file_as_list[1][1])\n",
    "prior_month_value=float(file_as_list[1][1])\n",
    "current_month_value=0\n",
    "month_to_month_change=0\n",
    "greatest_pos_change=0\n",
    "greatest_neg_change=0\n",
    "greatest_month_of_pos_change=file_as_list[1][0]\n",
    "greatest_month_of_neg_change=file_as_list[1][0]\n",
    "accumulator_for_average_change=0\n",
    "print(current_month_value)\n",
    "print(greatest_month_of_pos_change)"
   ]
  },
  {
   "cell_type": "code",
   "execution_count": 5,
   "metadata": {},
   "outputs": [],
   "source": [
    "number_of_records=len(file_as_list)-1"
   ]
  },
  {
   "cell_type": "code",
   "execution_count": 7,
   "metadata": {},
   "outputs": [],
   "source": [
    "    for i in range(number_of_records):\n",
    "            current_month_value=float(file_as_list[i+1][1])\n",
    "            net_profit_or_loss=net_profit_or_loss + current_month_value\n",
    "            month_to_month_change=current_month_value - prior_month_value\n",
    "            accumulator_for_average_change=accumulator_for_average_change+month_to_month_change\n",
    "            prior_month_value=current_month_value\n",
    "            if month_to_month_change > greatest_pos_change:\n",
    "                greatest_pos_change = month_to_month_change\n",
    "                greatest_month_of_pos_change=file_as_list[i+1][0]\n",
    "            if month_to_month_change < greatest_neg_change:\n",
    "                greatest_neg_change = month_to_month_change\n",
    "                greatest_month_of_neg_change=file_as_list[i+1][0]"
   ]
  },
  {
   "cell_type": "code",
   "execution_count": 8,
   "metadata": {},
   "outputs": [
    {
     "name": "stdout",
     "output_type": "stream",
     "text": [
      "Total Months: 86\n",
      "Total Profit or Loss: $39250462\n",
      "Average Month-to-Month Change: $-2288.0\n",
      "Greatest Increase in Profits: Feb-12 ($1926159.0)\n",
      "Greatest Decrease in Profits: Sep-13 ($-2196167.0)\n"
     ]
    }
   ],
   "source": [
    "average_month_to_month_change=accumulator_for_average_change/number_of_records\n",
    "begin_to_end_change=float((file_as_list[number_of_records][1]))-float((file_as_list[1][1]))\n",
    "print(\"Total Months: \" + str(number_of_records))\n",
    "print(\"Total Profit or Loss: $\" + str(round(net_profit_or_loss)))\n",
    "print(\"Average Month-to-Month Change: $\" + str(round(average_month_to_month_change,0)))\n",
    "print(\"Greatest Increase in Profits: \" + str(greatest_month_of_pos_change) + \" ($\" + str(greatest_pos_change)+\")\")\n",
    "print(\"Greatest Decrease in Profits: \" + str(greatest_month_of_neg_change) + \" ($\" + str(greatest_neg_change)+\")\")"
   ]
  },
  {
   "cell_type": "code",
   "execution_count": 20,
   "metadata": {},
   "outputs": [],
   "source": [
    "file = open(\"output_file_for_python_homework_budget\",\"w\")\n",
    "file.writelines(\"Total Months: \" + str(number_of_records)+\"\\n\")\n",
    "file.writelines(\"Total Profit or Loss: $\" + str(round(net_profit_or_loss))+\"\\n\")\n",
    "file.writelines(\"Average Month-to-Month Change: $\" + str(round(average_month_to_month_change,0))+\"\\n\")\n",
    "file.writelines(\"Greatest Increase in Profits: \" + str(greatest_month_of_pos_change) + \" ($\" + str(greatest_pos_change)+\")\"+\"\\n\")\n",
    "file.writelines(\"Greatest Decrease in Profits: \" + str(greatest_month_of_neg_change) + \" ($\" + str(greatest_neg_change)+\")\"+\"\\n\")\n",
    "file.close()"
   ]
  },
  {
   "cell_type": "code",
   "execution_count": null,
   "metadata": {},
   "outputs": [],
   "source": []
  }
 ],
 "metadata": {
  "kernelspec": {
   "display_name": "Python 3",
   "language": "python",
   "name": "python3"
  },
  "language_info": {
   "codemirror_mode": {
    "name": "ipython",
    "version": 3
   },
   "file_extension": ".py",
   "mimetype": "text/x-python",
   "name": "python",
   "nbconvert_exporter": "python",
   "pygments_lexer": "ipython3",
   "version": "3.6.5"
  }
 },
 "nbformat": 4,
 "nbformat_minor": 2
}
