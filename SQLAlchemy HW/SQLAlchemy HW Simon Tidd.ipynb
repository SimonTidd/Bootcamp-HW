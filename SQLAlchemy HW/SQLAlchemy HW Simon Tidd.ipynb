{
 "cells": [
  {
   "cell_type": "code",
   "execution_count": 1,
   "metadata": {},
   "outputs": [],
   "source": [
    "%matplotlib notebook\n",
    "from matplotlib import style\n",
    "style.use('fivethirtyeight')\n",
    "import matplotlib.pyplot as plt\n",
    "from datetime import timedelta\n",
    "import matplotlib.dates as mdate\n"
   ]
  },
  {
   "cell_type": "code",
   "execution_count": 2,
   "metadata": {},
   "outputs": [],
   "source": [
    "import numpy as np\n",
    "import pandas as pd"
   ]
  },
  {
   "cell_type": "code",
   "execution_count": 3,
   "metadata": {},
   "outputs": [],
   "source": [
    "import datetime as dt"
   ]
  },
  {
   "cell_type": "code",
   "execution_count": 4,
   "metadata": {},
   "outputs": [],
   "source": [
    "import os\n",
    "os.chdir(r'C:\\Users\\sttid\\Desktop\\SQLAlchemy HW')"
   ]
  },
  {
   "cell_type": "markdown",
   "metadata": {},
   "source": [
    "# Reflect Tables into SQLAlchemy ORM"
   ]
  },
  {
   "cell_type": "code",
   "execution_count": 5,
   "metadata": {},
   "outputs": [],
   "source": [
    "# Python SQL toolkit and Object Relational Mapper\n",
    "import sqlalchemy\n",
    "from sqlalchemy.ext.automap import automap_base\n",
    "from sqlalchemy.orm import Session\n",
    "from sqlalchemy import create_engine, inspect, func\n",
    "from sqlalchemy import table\n",
    "from sqlalchemy import MetaData\n",
    "from sqlalchemy.sql import label\n",
    "from sqlalchemy import and_"
   ]
  },
  {
   "cell_type": "code",
   "execution_count": 6,
   "metadata": {},
   "outputs": [],
   "source": [
    "engine = create_engine(\"sqlite:///hawaii.sqlite\")"
   ]
  },
  {
   "cell_type": "code",
   "execution_count": 7,
   "metadata": {},
   "outputs": [
    {
     "data": {
      "text/plain": [
       "['measurement', 'station']"
      ]
     },
     "execution_count": 7,
     "metadata": {},
     "output_type": "execute_result"
    }
   ],
   "source": [
    "# Use Inspector to print the column names and types\n",
    "inspector = inspect(engine)\n",
    "inspector.get_table_names()"
   ]
  },
  {
   "cell_type": "code",
   "execution_count": 8,
   "metadata": {},
   "outputs": [
    {
     "name": "stdout",
     "output_type": "stream",
     "text": [
      "id INTEGER\n",
      "station TEXT\n",
      "date TEXT\n",
      "prcp FLOAT\n",
      "tobs FLOAT\n"
     ]
    }
   ],
   "source": [
    "columns = inspector.get_columns('measurement')\n",
    "for column in columns:\n",
    "    print(column[\"name\"], column[\"type\"])"
   ]
  },
  {
   "cell_type": "code",
   "execution_count": 9,
   "metadata": {},
   "outputs": [
    {
     "name": "stdout",
     "output_type": "stream",
     "text": [
      "id INTEGER\n",
      "station TEXT\n",
      "name TEXT\n",
      "latitude FLOAT\n",
      "longitude FLOAT\n",
      "elevation FLOAT\n"
     ]
    }
   ],
   "source": [
    "columns = inspector.get_columns('station')\n",
    "for column in columns:\n",
    "    print(column[\"name\"], column[\"type\"])"
   ]
  },
  {
   "cell_type": "code",
   "execution_count": 10,
   "metadata": {},
   "outputs": [],
   "source": [
    "# reflect an existing database into a new model\n",
    "Base = automap_base()\n",
    "# reflect the tables\n",
    "Base.prepare(engine, reflect=True)"
   ]
  },
  {
   "cell_type": "code",
   "execution_count": 11,
   "metadata": {},
   "outputs": [
    {
     "data": {
      "text/plain": [
       "['measurement', 'station']"
      ]
     },
     "execution_count": 11,
     "metadata": {},
     "output_type": "execute_result"
    }
   ],
   "source": [
    "# We can view all of the classes that automap found\n",
    "Base.classes.keys()"
   ]
  },
  {
   "cell_type": "code",
   "execution_count": 12,
   "metadata": {},
   "outputs": [],
   "source": [
    "# Save references to each table\n",
    "Measurement = Base.classes.measurement\n",
    "Station = Base.classes.station"
   ]
  },
  {
   "cell_type": "code",
   "execution_count": 13,
   "metadata": {},
   "outputs": [],
   "source": [
    "# Create our session (link) from Python to the DB\n",
    "session = Session(engine)"
   ]
  },
  {
   "cell_type": "markdown",
   "metadata": {},
   "source": [
    "# Exploratory Climate Analysis"
   ]
  },
  {
   "cell_type": "code",
   "execution_count": 14,
   "metadata": {},
   "outputs": [
    {
     "name": "stdout",
     "output_type": "stream",
     "text": [
      "2017-08-23\n",
      "2016-08-23\n"
     ]
    }
   ],
   "source": [
    "# Design a query to retrieve the last 12 months of precipitation data and plot the results\n",
    "# From Simon - not all of the stations have data for all days and it makes no analytic sense to me\n",
    "#to layer the data so that the highest is plotted. I'm going to find the station with the greatest\n",
    "# precipitation on each of the prior 365 days. Should produce the same picture.\n",
    "\n",
    "############# Calculate the date 1 year ago from today\n",
    "\n",
    "#get the last date in the dataset\n",
    "results = session.query(Measurement.date, Measurement.prcp).\\\n",
    "    order_by(Measurement.date.desc()).first()\n",
    "\n",
    "date_of_last_obs=results[0]\n",
    "\n",
    "\n",
    "\n",
    "format_str = '%Y-%m-%d' # The format\n",
    "date_of_last_obs = dt.datetime.strptime(date_of_last_obs, format_str)\n",
    "print(date_of_last_obs.date())\n",
    "last_obs_minus_1_yr = date_of_last_obs - timedelta(days=365)\n",
    "print(last_obs_minus_1_yr.date())\n",
    "\n",
    "\n",
    "############### Perform a query to retrieve the data and precipitation scores\n",
    "\n",
    "\n",
    "#pull in all records within last year\n",
    "\n",
    "results = session.query(Measurement.date, Measurement.prcp).filter(\n",
    "    Measurement.date >= last_obs_minus_1_yr)\n",
    "\n",
    "obs_date = [result[0] for result in results]\n",
    "precip = [result[1] for result in results]\n",
    "\n",
    "# Save the query results as a Pandas DataFrame and set the index to the date column\n",
    "\n",
    "date_and_precip_365days = pd.DataFrame(\n",
    "    {'Date': obs_date,\n",
    "     'Precipitation': precip\n",
    "    })"
   ]
  },
  {
   "cell_type": "code",
   "execution_count": 15,
   "metadata": {},
   "outputs": [
    {
     "data": {
      "text/html": [
       "<div>\n",
       "<style scoped>\n",
       "    .dataframe tbody tr th:only-of-type {\n",
       "        vertical-align: middle;\n",
       "    }\n",
       "\n",
       "    .dataframe tbody tr th {\n",
       "        vertical-align: top;\n",
       "    }\n",
       "\n",
       "    .dataframe thead th {\n",
       "        text-align: right;\n",
       "    }\n",
       "</style>\n",
       "<table border=\"1\" class=\"dataframe\">\n",
       "  <thead>\n",
       "    <tr style=\"text-align: right;\">\n",
       "      <th></th>\n",
       "      <th>Date</th>\n",
       "      <th>Precipitation</th>\n",
       "    </tr>\n",
       "  </thead>\n",
       "  <tbody>\n",
       "    <tr>\n",
       "      <th>0</th>\n",
       "      <td>2016-08-24</td>\n",
       "      <td>0.08</td>\n",
       "    </tr>\n",
       "    <tr>\n",
       "      <th>1</th>\n",
       "      <td>2016-08-25</td>\n",
       "      <td>0.08</td>\n",
       "    </tr>\n",
       "    <tr>\n",
       "      <th>2</th>\n",
       "      <td>2016-08-26</td>\n",
       "      <td>0.00</td>\n",
       "    </tr>\n",
       "    <tr>\n",
       "      <th>3</th>\n",
       "      <td>2016-08-27</td>\n",
       "      <td>0.00</td>\n",
       "    </tr>\n",
       "    <tr>\n",
       "      <th>4</th>\n",
       "      <td>2016-08-28</td>\n",
       "      <td>0.01</td>\n",
       "    </tr>\n",
       "  </tbody>\n",
       "</table>\n",
       "</div>"
      ],
      "text/plain": [
       "         Date  Precipitation\n",
       "0  2016-08-24           0.08\n",
       "1  2016-08-25           0.08\n",
       "2  2016-08-26           0.00\n",
       "3  2016-08-27           0.00\n",
       "4  2016-08-28           0.01"
      ]
     },
     "execution_count": 15,
     "metadata": {},
     "output_type": "execute_result"
    }
   ],
   "source": [
    "date_and_precip_365days.head()"
   ]
  },
  {
   "cell_type": "code",
   "execution_count": 16,
   "metadata": {},
   "outputs": [
    {
     "data": {
      "text/html": [
       "<div>\n",
       "<style scoped>\n",
       "    .dataframe tbody tr th:only-of-type {\n",
       "        vertical-align: middle;\n",
       "    }\n",
       "\n",
       "    .dataframe tbody tr th {\n",
       "        vertical-align: top;\n",
       "    }\n",
       "\n",
       "    .dataframe thead th {\n",
       "        text-align: right;\n",
       "    }\n",
       "</style>\n",
       "<table border=\"1\" class=\"dataframe\">\n",
       "  <thead>\n",
       "    <tr style=\"text-align: right;\">\n",
       "      <th></th>\n",
       "      <th>Date</th>\n",
       "      <th>Precipitation</th>\n",
       "    </tr>\n",
       "  </thead>\n",
       "  <tbody>\n",
       "    <tr>\n",
       "      <th>0</th>\n",
       "      <td>2016-08-24</td>\n",
       "      <td>2.28</td>\n",
       "    </tr>\n",
       "    <tr>\n",
       "      <th>1</th>\n",
       "      <td>2016-08-25</td>\n",
       "      <td>0.21</td>\n",
       "    </tr>\n",
       "    <tr>\n",
       "      <th>2</th>\n",
       "      <td>2016-08-26</td>\n",
       "      <td>0.04</td>\n",
       "    </tr>\n",
       "    <tr>\n",
       "      <th>3</th>\n",
       "      <td>2016-08-27</td>\n",
       "      <td>0.18</td>\n",
       "    </tr>\n",
       "    <tr>\n",
       "      <th>4</th>\n",
       "      <td>2016-08-28</td>\n",
       "      <td>2.07</td>\n",
       "    </tr>\n",
       "  </tbody>\n",
       "</table>\n",
       "</div>"
      ],
      "text/plain": [
       "         Date  Precipitation\n",
       "0  2016-08-24           2.28\n",
       "1  2016-08-25           0.21\n",
       "2  2016-08-26           0.04\n",
       "3  2016-08-27           0.18\n",
       "4  2016-08-28           2.07"
      ]
     },
     "execution_count": 16,
     "metadata": {},
     "output_type": "execute_result"
    }
   ],
   "source": [
    "######################## Save the query results as a Pandas DataFrame and set the index to the date column - I'm not going to set the date\n",
    "# to the index becasse I will only have one observation per day since I find the station with the greatest precip for any given day\n",
    "######################## sorting is done here too\n",
    "date_and_precip_365days_max = date_and_precip_365days.groupby(['Date'], sort=True)['Precipitation'].max().reset_index()\n",
    "date_and_precip_365days_max.head()"
   ]
  },
  {
   "cell_type": "code",
   "execution_count": 17,
   "metadata": {},
   "outputs": [
    {
     "data": {
      "image/png": "[encoded data removed]",
      "text/plain": [
       "<Figure size 1080x504 with 1 Axes>"
      ]
     },
     "metadata": {},
     "output_type": "display_data"
    }
   ],
   "source": [
    "\n",
    "\n",
    "################### Use Pandas Plotting with Matplotlib to plot the data\n",
    "################### Rotate the xticks for the dates\n",
    "# I tried to label every 7th day. It labeled but use consecutive day labels\n",
    "\n",
    "%matplotlib inline\n",
    "\n",
    "#set ggplot style\n",
    "plt.style.use('ggplot')\n",
    "\n",
    "#set date as index\n",
    "date_and_precip_365days_max.set_index('Date',inplace=True)\n",
    "\n",
    "#plot data\n",
    "fig, ax = plt.subplots(figsize=(15,7))\n",
    "date_and_precip_365days_max.plot(kind='bar', ax=ax)\n",
    "ax.set_title('Greatest Local Precipitation by Day')\n",
    "ax.set_xlabel('Date')\n",
    "ax.set_ylabel('Precipitation')\n",
    "fig.autofmt_xdate()\n",
    "\n",
    "\n",
    "plt.show()"
   ]
  },
  {
   "cell_type": "code",
   "execution_count": null,
   "metadata": {},
   "outputs": [],
   "source": []
  },
  {
   "cell_type": "code",
   "execution_count": 18,
   "metadata": {},
   "outputs": [
    {
     "data": {
      "text/html": [
       "<div>\n",
       "<style scoped>\n",
       "    .dataframe tbody tr th:only-of-type {\n",
       "        vertical-align: middle;\n",
       "    }\n",
       "\n",
       "    .dataframe tbody tr th {\n",
       "        vertical-align: top;\n",
       "    }\n",
       "\n",
       "    .dataframe thead th {\n",
       "        text-align: right;\n",
       "    }\n",
       "</style>\n",
       "<table border=\"1\" class=\"dataframe\">\n",
       "  <thead>\n",
       "    <tr style=\"text-align: right;\">\n",
       "      <th></th>\n",
       "      <th>Precipitation</th>\n",
       "    </tr>\n",
       "  </thead>\n",
       "  <tbody>\n",
       "    <tr>\n",
       "      <th>count</th>\n",
       "      <td>365.000000</td>\n",
       "    </tr>\n",
       "    <tr>\n",
       "      <th>mean</th>\n",
       "      <td>0.517288</td>\n",
       "    </tr>\n",
       "    <tr>\n",
       "      <th>std</th>\n",
       "      <td>0.829196</td>\n",
       "    </tr>\n",
       "    <tr>\n",
       "      <th>min</th>\n",
       "      <td>0.000000</td>\n",
       "    </tr>\n",
       "    <tr>\n",
       "      <th>25%</th>\n",
       "      <td>0.040000</td>\n",
       "    </tr>\n",
       "    <tr>\n",
       "      <th>50%</th>\n",
       "      <td>0.250000</td>\n",
       "    </tr>\n",
       "    <tr>\n",
       "      <th>75%</th>\n",
       "      <td>0.650000</td>\n",
       "    </tr>\n",
       "    <tr>\n",
       "      <th>max</th>\n",
       "      <td>6.700000</td>\n",
       "    </tr>\n",
       "  </tbody>\n",
       "</table>\n",
       "</div>"
      ],
      "text/plain": [
       "       Precipitation\n",
       "count     365.000000\n",
       "mean        0.517288\n",
       "std         0.829196\n",
       "min         0.000000\n",
       "25%         0.040000\n",
       "50%         0.250000\n",
       "75%         0.650000\n",
       "max         6.700000"
      ]
     },
     "execution_count": 18,
     "metadata": {},
     "output_type": "execute_result"
    }
   ],
   "source": [
    "# Use Pandas to calcualte the summary statistics for the precipitation data\n",
    "date_and_precip_365days_max.describe(percentiles=(.25,.50,.75))"
   ]
  },
  {
   "cell_type": "code",
   "execution_count": 19,
   "metadata": {},
   "outputs": [
    {
     "data": {
      "text/plain": [
       "(9)"
      ]
     },
     "execution_count": 19,
     "metadata": {},
     "output_type": "execute_result"
    }
   ],
   "source": [
    "##################### How many stations are available in this dataset?\n",
    "from sqlalchemy import distinct\n",
    " \n",
    "##################### count distinct station names\n",
    "unique_stations=session.query(func.count(distinct(Measurement.station)))\n",
    "num_unique_stations=unique_stations[0]\n",
    "num_unique_stations"
   ]
  },
  {
   "cell_type": "code",
   "execution_count": 20,
   "metadata": {},
   "outputs": [
    {
     "data": {
      "text/plain": [
       "[('USC00519281', 2772), ('USC00519397', 2724), ('USC00513117', 2709)]"
      ]
     },
     "execution_count": 20,
     "metadata": {},
     "output_type": "execute_result"
    }
   ],
   "source": [
    "# What are the most active stations?\n",
    "station_count_list=session.query(Measurement.station, func.count(Measurement.station)).group_by(Measurement.station).all()\n",
    "\n",
    "\n",
    "def getKey(station_count_list):\n",
    "     return station_count_list[1]\n",
    "sorted(station_count_list, key=getKey, reverse=True)[:3]\n"
   ]
  },
  {
   "cell_type": "code",
   "execution_count": 21,
   "metadata": {},
   "outputs": [
    {
     "data": {
      "text/plain": [
       "[('USC00519281', 2772),\n",
       " ('USC00519397', 2724),\n",
       " ('USC00513117', 2709),\n",
       " ('USC00519523', 2669),\n",
       " ('USC00516128', 2612),\n",
       " ('USC00514830', 2202),\n",
       " ('USC00511918', 1979),\n",
       " ('USC00517948', 1372),\n",
       " ('USC00518838', 511)]"
      ]
     },
     "execution_count": 21,
     "metadata": {},
     "output_type": "execute_result"
    }
   ],
   "source": [
    "#################### List the stations and the counts in descending order.\n",
    "\n",
    "def getKey(station_count_list):\n",
    "     return station_count_list[1]\n",
    "sorted(station_count_list, key=getKey, reverse=True)"
   ]
  },
  {
   "cell_type": "code",
   "execution_count": 22,
   "metadata": {},
   "outputs": [
    {
     "name": "stdout",
     "output_type": "stream",
     "text": [
      "2017-08-23\n",
      "2016-08-23\n",
      "maximum temperature:  83.0\n",
      "minimum temperature:  59.0\n",
      "average temperature:  73\n"
     ]
    }
   ],
   "source": [
    "########################## Using the station id from the previous query, calculate the lowest temperature recorded, \n",
    "#I tried to assign the station ID to a variable but couldn't make it work so I'm going to hardcode\n",
    "most_activ_sta = station_count_list[1]\n",
    "most_activ_sta\n",
    "\n",
    "\n",
    "\n",
    "#get the last date in the dataset\n",
    "results_2 = session.query(Measurement.date, Measurement.tobs).\\\n",
    "    order_by(Measurement.date.desc()).first()\n",
    "\n",
    "date_of_last_obs_tobs=results_2[0]\n",
    "\n",
    "\n",
    "\n",
    "date_of_last_obs_tobs = dt.datetime.strptime(date_of_last_obs_tobs, format_str)\n",
    "print(date_of_last_obs_tobs.date())\n",
    "last_obs_minus_1_yr_tobs = date_of_last_obs_tobs - timedelta(days=365)\n",
    "print(last_obs_minus_1_yr_tobs.date())\n",
    "\n",
    "\n",
    "#calculate the outcomes\n",
    "\n",
    "\n",
    "results_2 = session.query(func.max(Measurement.tobs).label(\"max_temperature\"), \n",
    "                func.min(Measurement.tobs).label(\"min_temperature\"),\n",
    "                func.avg(Measurement.tobs).label(\"avg_temperature\")\n",
    "                ).filter(Measurement.date >= last_obs_minus_1_yr, Measurement.station=='USC00519281')\n",
    "res = results_2.one()\n",
    "max_temp = res.max_temperature\n",
    "min_temp = res.min_temperature\n",
    "avg_temp = int(res.avg_temperature)\n",
    "\n",
    "print (\"maximum temperature: \",max_temp)\n",
    "print (\"minimum temperature: \",min_temp)\n",
    "print (\"average temperature: \",avg_temp)\n",
    " \n",
    "\n",
    "\n"
   ]
  },
  {
   "cell_type": "code",
   "execution_count": 23,
   "metadata": {},
   "outputs": [
    {
     "data": {
      "image/png": "[encoded data removed]",
      "text/plain": [
       "<Figure size 432x288 with 1 Axes>"
      ]
     },
     "metadata": {},
     "output_type": "display_data"
    }
   ],
   "source": [
    "# Choose the station with the highest number of temperature observations.\n",
    "# Query the last 12 months of temperature observation data for this station and plot the results as a histogram\n",
    "\n",
    "#pull in all records within last year\n",
    "\n",
    "results_3 = session.query(Measurement.date, Measurement.tobs).filter(\n",
    "    Measurement.date >= last_obs_minus_1_yr, Measurement.station=='USC00519281')\n",
    "\n",
    "obs_date = [result[0] for result in results_3]\n",
    "temperature = [result[1] for result in results_3]\n",
    "\n",
    "\n",
    "plt.hist((temperature), bins=12)\n",
    "plt.xlabel('Temperature')\n",
    "plt.ylabel('Count')\n",
    "plt.show()\n",
    "\n",
    "\n",
    "\n"
   ]
  },
  {
   "cell_type": "code",
   "execution_count": null,
   "metadata": {},
   "outputs": [],
   "source": [
    "from flask import Flask, jsonify\n",
    "\n",
    "app = Flask(__name__)"
   ]
  },
  {
   "cell_type": "code",
   "execution_count": null,
   "metadata": {},
   "outputs": [],
   "source": [
    "#Convert the query results to a Dictionary using date as the key and tobs as the value.\n",
    "\n",
    "precipitation_dict = dict(zip(date_and_precip_365days_max.Date, date_and_precip_365days_max.Precipitation))\n",
    "\n",
    "#Return the JSON representation of your dictionary\n",
    "@app.route(\"/api/v1.0/precipitation\")\n",
    "def Precip():\n",
    "    return jsonify(precipitation_dict)\n"
   ]
  },
  {
   "cell_type": "code",
   "execution_count": null,
   "metadata": {},
   "outputs": [],
   "source": [
    "\n",
    "\n",
    "#query for the dates and temperature observations from a year from the last data point.\n",
    "#Return a JSON list of Temperature Observations (tobs) for the previous year.\n",
    "\n",
    "@app.route(\"/api/v1.0/tobs\")\n",
    "def Temp():\n",
    "    return jsonify(temperature)"
   ]
  },
  {
   "cell_type": "code",
   "execution_count": null,
   "metadata": {},
   "outputs": [],
   "source": [
    "#I'm lost for this final piece (below)\n",
    "#I'm assuming that there is user inpout at some point?\n",
    "#I can calculate what is required given a start and end date\n",
    "\n",
    "\n",
    "\n",
    "#Return a JSON list of the minimum temperature, the average temperature, and the max temperature for a given start or start-end range.\n",
    "\n",
    "#When given the start only, calculate TMIN, TAVG, and TMAX for all dates greater than and equal to the start date.\n",
    "\n",
    "start= datetime.datetime.strptime(<start date>,'%d/%m/%Y').date()\n",
    "station=<station>\n",
    "\n",
    "\n",
    "results_4 = session.query(func.max(Measurement.tobs).label(\"max_temperature\"), \n",
    "                func.min(Measurement.tobs).label(\"min_temperature\"),\n",
    "                func.avg(Measurement.tobs).label(\"avg_temperature\")\n",
    "                ).filter(Measurement.date >= start,Measurement.station==station)\n",
    "res = results_4.one()\n",
    "max_temp = res.max_temperature\n",
    "min_temp = res.min_temperature\n",
    "avg_temp = int(res.avg_temperature)\n",
    "\n",
    "temperature_result={\"start date\":start, \"max temp\":max_temp,\"min temp\":mion_temp,\"avg temp\":avg_temp }\n",
    "\n",
    "#I got confused here about there being 2 APIs\n",
    "\n",
    "@app.route(\"/api/v1.0/not_sure\")\n",
    "def Temp():\n",
    "    return jsonify(temperature_result)\n",
    "\n",
    "\n",
    "\n",
    "#When given the start and the end date, calculate the TMIN, TAVG, and TMAX for dates between the start and end date inclusive.\n",
    "\n",
    "start= datetime.datetime.strptime(<start date>,'%d/%m/%Y').date()\n",
    "end= datetime.datetime.strptime(<end date>,'%d/%m/%Y').date()\n",
    "station=<station>\n",
    "\n",
    "\n",
    "results_5 = session.query(func.max(Measurement.tobs).label(\"max_temperature\"), \n",
    "                func.min(Measurement.tobs).label(\"min_temperature\"),\n",
    "                func.avg(Measurement.tobs).label(\"avg_temperature\")\n",
    "                ).filter(Measurement.date >= start, Measurement.date <= end,Measurement.station==station)\n",
    "res = results_5.one()\n",
    "max_temp = res.max_temperature\n",
    "min_temp = res.min_temperature\n",
    "avg_temp = int(res.avg_temperature)\n",
    "\n",
    "temperature_result_2={\"start date\":start, \"end date\":end, \"max temp\":max_temp,\"min temp\":mion_temp,\"avg temp\":avg_temp }\n",
    "\n",
    "#I got confused here about there being 2 APIs\n",
    "\n",
    "@app.route(\"/api/v1.0/not_sure\")\n",
    "def Temp():\n",
    "    return jsonify(temperature_result_2)\n",
    "\n",
    "\n"
   ]
  }
 ],
 "metadata": {
  "kernel_info": {
   "name": "python3"
  },
  "kernelspec": {
   "display_name": "Python 3",
   "language": "python",
   "name": "python3"
  },
  "language_info": {
   "codemirror_mode": {
    "name": "ipython",
    "version": 3
   },
   "file_extension": ".py",
   "mimetype": "text/x-python",
   "name": "python",
   "nbconvert_exporter": "python",
   "pygments_lexer": "ipython3",
   "version": "3.6.5"
  },
  "nteract": {
   "version": "0.9.1"
  },
  "varInspector": {
   "cols": {
    "lenName": 16,
    "lenType": 16,
    "lenVar": 40
   },
   "kernels_config": {
    "python": {
     "delete_cmd_postfix": "",
     "delete_cmd_prefix": "del ",
     "library": "var_list.py",
     "varRefreshCmd": "print(var_dic_list())"
    },
    "r": {
     "delete_cmd_postfix": ") ",
     "delete_cmd_prefix": "rm(",
     "library": "var_list.r",
     "varRefreshCmd": "cat(var_dic_list()) "
    }
   },
   "types_to_exclude": [
    "module",
    "function",
    "builtin_function_or_method",
    "instance",
    "_Feature"
   ],
   "window_display": false
  }
 },
 "nbformat": 4,
 "nbformat_minor": 2
}
